{
 "cells": [
  {
   "cell_type": "markdown",
   "id": "e5509ee8",
   "metadata": {},
   "source": [
    "### Question1: What is the difference between descriptive statistics and \n",
    "inferential statistics? Explain with examples."
   ]
  },
  {
   "cell_type": "markdown",
   "id": "b280b7f3",
   "metadata": {},
   "source": [
    "Descriptive Statistics summarize and present data in a meaningful way.  \n",
    "Example: The average test score of a class is 75.  \n",
    " \n",
    "Inferential Statistics make predictions or generalizations about a population using sample \n",
    "data.  \n",
    "Example: Based on a sample of 100 voters, we estimate that 60% of the entire population \n",
    "supports a candidate."
   ]
  },
  {
   "cell_type": "markdown",
   "id": "262ed833",
   "metadata": {},
   "source": [
    "### Question2: What is sampling in statistics? Explain the differences \n",
    "between random and stratified sampling."
   ]
  },
  {
   "cell_type": "markdown",
   "id": "bf155718",
   "metadata": {},
   "source": [
    "Sampling is selecting a subset of data from a population for analysis.  \n",
    " \n",
    "Random Sampling : Every individual has an equal chance of being selected.  \n",
    "Stratified Sampling : Population is divided into groups (strata), and samples are drawn \n",
    "proportionally from each group.  \n",
    "Example:  \n",
    "Random = picking 50 students randomly from a school . \n",
    "Stratified = picking 25 boys & 25 girls."
   ]
  },
  {
   "cell_type": "markdown",
   "id": "2a97edf6",
   "metadata": {},
   "source": [
    "### Question3: Define mean, median, and mode. Explain why these measures \n",
    "of central tendency are important."
   ]
  },
  {
   "cell_type": "markdown",
   "id": "08337662",
   "metadata": {},
   "source": [
    "Mean : The mean is the average of a set of numerical values. It is calculated by adding up all \n",
    "the values in the data set and then dividing the sum by the total number of values.  \n",
    " \n",
    "Median : The median  is the middle value  in a data set when the values are arranged in \n",
    "ascending or descending order . It divides the data into two equal halves.  \n",
    " \n",
    " \n",
    "Mode : The mode is the value (or values) that occurs most frequently in a data set. It shows \n",
    "which value appears the most often.  \n",
    "These measures of central tendency are important because they:  \n",
    "• Summarize data with a single representative value  \n",
    "• Make it easier to compare different data sets  \n",
    "• Help identify trends or patterns in the data  \n",
    "• Support decision -making in fields like business, education, and science  \n",
    "• Handle different types of data depending on the situation (e.g., mean for balanced \n",
    "data, median for skewed data, mode for common values)"
   ]
  },
  {
   "cell_type": "markdown",
   "id": "c9158d6d",
   "metadata": {},
   "source": [
    "### Question4: Explain skewness and kurtosis. What does a positive skew \n",
    "imply about the data?"
   ]
  },
  {
   "cell_type": "markdown",
   "id": "e4620d9b",
   "metadata": {},
   "source": [
    "Skewness: Skewness measures the asymmetry  of a data distribution.  \n",
    "• Positive skew  (right -skewed): The tail on the right  side is longer or fatter. Most \n",
    "values are on the left, and the mean is greater than  the median.  \n",
    "• Negative skew  (left -skewed): The tail on the left  side is longer. Most values are on \n",
    "the right , and the mean is less than  the median.  \n",
    "• Zero skew : The distribution is symmetrical  (mean ≈ median).  \n",
    " \n",
    "Kurtosis: Kurtosis measures the \"tailedness\"  or peak sharpness  of a data distribution.  \n",
    "• High kurtosis : Sharp peak and heavy tails  (more extreme outliers).  \n",
    "• Low kurtosis : Flat peak and light tails  (fewer outliers).  \n",
    "• Normal kurtosis  (mesokurtic): Distribution is similar to a normal bell curve.  \n",
    "A positive skew  means:  \n",
    "• The data has a long right tail  \n",
    "• Most values are low , with a few very high  values  \n",
    "• The mean > median  \n",
    "• Example: Income distribution, where most people earn less, but a few earn much \n",
    "more  \n",
    "It suggests that outliers on the higher end are pulling the average up."
   ]
  },
  {
   "cell_type": "markdown",
   "id": "2a985e28",
   "metadata": {},
   "source": [
    "### Question5: Implement a Python program to compute the mean, median,and mode of a given list of numbers.  \n",
    "numbers = [12, 15, 12, 18, 19, 12, 20, 22, 19, 19, 24, 24, 24, 26, 28]"
   ]
  },
  {
   "cell_type": "code",
   "execution_count": 1,
   "id": "353f3391-1be3-44b5-b95b-f7893dab3696",
   "metadata": {},
   "outputs": [
    {
     "name": "stdout",
     "output_type": "stream",
     "text": [
      "Mean: 19.6\n",
      "Median: 19\n",
      "Mode: 12\n"
     ]
    }
   ],
   "source": [
    "import statistics as stats\n",
    "\n",
    "numbers = [12, 15, 12, 18, 19, 12, 20, 22, 19, 19, 24, 24, 24, 26, 28]\n",
    "\n",
    "mean_val = stats.mean(numbers)\n",
    "median_val = stats.median(numbers)\n",
    "mode_val = stats.mode(numbers)\n",
    "\n",
    "print(\"Mean:\", mean_val)\n",
    "print(\"Median:\", median_val)\n",
    "print(\"Mode:\", mode_val)"
   ]
  },
  {
   "cell_type": "markdown",
   "id": "55789ed3",
   "metadata": {},
   "source": [
    "### Question6: Compute the covariance and correlation coefficient between the following  two datasets  provided as lists in Python:  \n",
    " list_x = [10, 20, 30, 40, 50]  \n",
    " list_y = [15, 25, 35, 45, 60]  \n",
    "Answer :"
   ]
  },
  {
   "cell_type": "code",
   "execution_count": 2,
   "id": "220e0588-064a-4152-a59f-98c7b5a26456",
   "metadata": {},
   "outputs": [
    {
     "name": "stdout",
     "output_type": "stream",
     "text": [
      "Covariance: 275.0\n",
      "Correlation Coefficient: 0.995893206467704\n"
     ]
    }
   ],
   "source": [
    "import numpy as np\n",
    "\n",
    "list_x = [10, 20, 30, 40, 50]\n",
    "list_y = [15, 25, 35, 45, 60]\n",
    "\n",
    "# Covariance matrix\n",
    "cov_matrix = np.cov(list_x, list_y, bias=False)\n",
    "cov_xy = cov_matrix[0][1]\n",
    "\n",
    "# Correlation coefficient\n",
    "corr_xy = np.corrcoef(list_x, list_y)[0][1]\n",
    "\n",
    "print(\"Covariance:\", cov_xy)\n",
    "print(\"Correlation Coefficient:\", corr_xy)"
   ]
  },
  {
   "cell_type": "markdown",
   "id": "cdcdadd5",
   "metadata": {},
   "source": [
    "### Question7: Write a Python script to draw a boxplot for the following numeric list and identify its outliers. Explain the result .  \n",
    "data = [12, 14, 14, 15, 18, 19, 19, 21, 22, 22, 23, 23, 24, 26, 29, 35]"
   ]
  },
  {
   "cell_type": "code",
   "execution_count": 3,
   "id": "5caff5d8-5333-41a3-b8bb-94426c4a28d5",
   "metadata": {},
   "outputs": [
    {
     "data": {
      "image/png": "[encoded data removed]",
      "text/plain": [
       "<Figure size 640x480 with 1 Axes>"
      ]
     },
     "metadata": {},
     "output_type": "display_data"
    }
   ],
   "source": [
    "import matplotlib.pyplot as plt\n",
    "\n",
    "data = [12, 14, 14, 15, 18, 19, 19, 21, 22, 22, 23, 23, 24, 26, 29, 35]\n",
    "\n",
    "plt.boxplot(data)\n",
    "plt.title(\"Boxplot of Data\")\n",
    "plt.show()"
   ]
  },
  {
   "cell_type": "markdown",
   "id": "a925b761",
   "metadata": {},
   "source": [
    "Components of the Boxplot:  \n",
    "1. Box (Interquartile Range, IQR)  \n",
    "o The box represents the middle 50% of the data, spanning from the first \n",
    "quartile (Q1)  to the third quartile (Q3) . \n",
    "o This gives an idea of the data’s central spread.  \n",
    "2. Median (Middle Line in the Box)  \n",
    "o The horizontal line inside the box shows the median  (the middle value).  \n",
    "o It divides the data into two halves.  \n",
    "3. Whiskers  \n",
    "o Lines extending from the box show the range of data within 1.5 × IQR  from \n",
    "Q1 and Q3.  \n",
    "o These cover the majority of the data points.  \n",
    "4. Outliers  \n",
    "o Points outside the whiskers are considered outliers . \n",
    "\n",
    "o In your data, 35 is plotted as an outlier because it lies far away from the rest \n",
    "of the data.  \n",
    " \n",
    "What the plot tells us about your data:  \n",
    "• The middle 50%  of the values lie roughly between 15 and 26 (the box edges).  \n",
    "• The median  is near 22, indicating that half the values are below and half are above \n",
    "22. \n",
    "• The whiskers extend roughly from 12 (minimum non -outlier) to 29 (maximum non -\n",
    "outlier).  \n",
    "• The value 35 is marked as an outlier , meaning it is significantly larger than most of \n",
    "the data points.  \n",
    "• This suggests that most of your data is clustered between 12 and 29, with one \n",
    "unusually large value (35)."
   ]
  },
  {
   "cell_type": "markdown",
   "id": "cf4b69a1",
   "metadata": {},
   "source": [
    "### Question8: You are working as a data analyst in an e -commerce \n",
    "### company. The marketing team wants to know if there is a relationship \n",
    "### between advertising spend and daily sales. Explain how you would use \n",
    "### covariance and correlation to explore this relationship.  Write Python code \n",
    "### to compute the correlation between the two lists:  \n",
    "advertising spend  = [200, 250, 300, 400, 500]  \n",
    "daily sales  = [2200, 2450, 2750, 3200, 4000]  \n",
    "Answer : \n",
    " Covariance tells us if advertising spend and daily sales move in the same direction.  \n",
    "Correlation measures how strong and linear this relationship is, ranging from -1 to 1.  \n",
    "• The code calculates a correlation close to 1, meaning:  \n",
    "o As advertising spend increases, daily sales also increase.  \n",
    "o There is a strong positive relationship between the two.  \n",
    "• This means the marketing team’s investment in advertising is closely linked to \n",
    "higher sales."
   ]
  },
  {
   "cell_type": "code",
   "execution_count": 4,
   "id": "033964b8-d87c-40bd-ae81-29cacb9ace17",
   "metadata": {},
   "outputs": [
    {
     "name": "stdout",
     "output_type": "stream",
     "text": [
      "Covariance: 84875.0\n",
      "Correlation Coefficient: 0.9935824101653329\n"
     ]
    }
   ],
   "source": [
    "import numpy as np\n",
    "\n",
    "advertising_spend = [200, 250, 300, 400, 500]\n",
    "daily_sales = [2200, 2450, 2750, 3200, 4000]\n",
    "\n",
    "# Covariance\n",
    "cov_matrix = np.cov(advertising_spend, daily_sales, bias=False)\n",
    "cov_xy = cov_matrix[0][1]\n",
    "\n",
    "# Correlation coefficient\n",
    "corr_xy = np.corrcoef(advertising_spend, daily_sales)[0][1]\n",
    "\n",
    "print(\"Covariance:\", cov_xy)\n",
    "print(\"Correlation Coefficient:\", corr_xy)"
   ]
  },
  {
   "cell_type": "markdown",
   "id": "8bea9970",
   "metadata": {},
   "source": [
    "### Question9: Your team has collected customer satisfaction survey data on a scale of 1 -10 and wants to understand its distribution before launching a new product.  Explain which summary statistics and visualizations (e.g. mean, standard deviation, histogram) you’d use.  Write Python code to create a histogram using Matplotlib for the survey data:  \n",
    "survey scores  = [7, 8, 5, 9, 6, 7, 8, 9, 10, 4, 7, 6, 9, 8, 7]"
   ]
  },
  {
   "cell_type": "code",
   "execution_count": 5,
   "id": "143ef373-db3b-468e-959e-de2338b202d7",
   "metadata": {},
   "outputs": [
    {
     "name": "stdout",
     "output_type": "stream",
     "text": [
      "Mean: 7.333333333333333\n",
      "Median: 7\n",
      "Mode: 7\n",
      "Standard Deviation: 1.632993161855452\n"
     ]
    },
    {
     "data": {
      "image/png": "[encoded data removed]",
      "text/plain": [
       "<Figure size 640x480 with 1 Axes>"
      ]
     },
     "metadata": {},
     "output_type": "display_data"
    }
   ],
   "source": [
    "import statistics as stats\n",
    "import matplotlib.pyplot as plt\n",
    "\n",
    "survey_scores = [7, 8, 5, 9, 6, 7, 8, 9, 10, 4, 7, 6, 9, 8, 7]\n",
    "\n",
    "# Summary statistics\n",
    "mean_val = stats.mean(survey_scores)\n",
    "median_val = stats.median(survey_scores)\n",
    "mode_val = stats.mode(survey_scores)\n",
    "stdev_val = stats.stdev(survey_scores)\n",
    "\n",
    "print(\"Mean:\", mean_val)\n",
    "print(\"Median:\", median_val)\n",
    "print(\"Mode:\", mode_val)\n",
    "print(\"Standard Deviation:\", stdev_val)\n",
    "\n",
    "# Histogram\n",
    "plt.hist(survey_scores, bins=6, edgecolor=\"black\")\n",
    "plt.title(\"Histogram of Survey Scores\")\n",
    "plt.xlabel(\"Score\")\n",
    "plt.ylabel(\"Frequency\")\n",
    "plt.show()"
   ]
  },
  {
   "cell_type": "markdown",
   "id": "47463ec3",
   "metadata": {},
   "source": [
    "Summary Statistics and Visualizations to Use:  \n",
    "1. Mean : Gives the average satisfaction score, indicating the overall tendency.  \n",
    "2. Median : Useful to understand the middle point, especially if the data is skewed.  \n",
    "3. Mode : Shows the most frequently occurring score(s).  \n",
    "4. Standard Deviation (SD) : Measures the spread or variability in the scores.  \n",
    "5. Range/Min -Max : Gives an idea of the score spread.  \n",
    "6. Histogram : Visualizes the distribution of scores and helps identify patterns like \n",
    "skewness or multiple peaks.  \n",
    "7. Boxplot  (optional): Useful to visualize the median, quartiles, and potential outliers."
   ]
  }
 ],
 "metadata": {
  "kernelspec": {
   "display_name": "Python 3 (ipykernel)",
   "language": "python",
   "name": "python3"
  },
  "language_info": {
   "codemirror_mode": {
    "name": "ipython",
    "version": 3
   },
   "file_extension": ".py",
   "mimetype": "text/x-python",
   "name": "python",
   "nbconvert_exporter": "python",
   "pygments_lexer": "ipython3",
   "version": "3.13.5"
  }
 },
 "nbformat": 4,
 "nbformat_minor": 5
}
